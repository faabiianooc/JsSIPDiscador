{
  "nbformat": 4,
  "nbformat_minor": 0,
  "metadata": {
    "colab": {
      "name": "TodasCidadesBrasil.ipynb",
      "provenance": [],
      "authorship_tag": "ABX9TyM8uYc2vm6Kop9/k2O9LYYi",
      "include_colab_link": true
    },
    "kernelspec": {
      "name": "python3",
      "display_name": "Python 3"
    },
    "language_info": {
      "name": "python"
    }
  },
  "cells": [
    {
      "cell_type": "markdown",
      "metadata": {
        "id": "view-in-github",
        "colab_type": "text"
      },
      "source": [
        "<a href=\"https://colab.research.google.com/github/faabiianooc/JsSIPDiscador/blob/master/TodasCidadesBrasil.ipynb\" target=\"_parent\"><img src=\"https://colab.research.google.com/assets/colab-badge.svg\" alt=\"Open In Colab\"/></a>"
      ]
    },
    {
      "cell_type": "markdown",
      "source": [
        "**Importacao de LIB necessaria**"
      ],
      "metadata": {
        "id": "aRHx_iTcTXCy"
      }
    },
    {
      "cell_type": "code",
      "execution_count": 138,
      "metadata": {
        "colab": {
          "base_uri": "https://localhost:8080/"
        },
        "id": "ODZCdI4ES-sQ",
        "outputId": "477bbaca-9068-4c07-a0a7-b297214b92a3"
      },
      "outputs": [
        {
          "output_type": "stream",
          "name": "stdout",
          "text": [
            "Looking in indexes: https://pypi.org/simple, https://us-python.pkg.dev/colab-wheels/public/simple/\n",
            "Requirement already satisfied: requests in /usr/local/lib/python3.7/dist-packages (2.23.0)\n",
            "Requirement already satisfied: certifi>=2017.4.17 in /usr/local/lib/python3.7/dist-packages (from requests) (2022.5.18.1)\n",
            "Requirement already satisfied: chardet<4,>=3.0.2 in /usr/local/lib/python3.7/dist-packages (from requests) (3.0.4)\n",
            "Requirement already satisfied: idna<3,>=2.5 in /usr/local/lib/python3.7/dist-packages (from requests) (2.10)\n",
            "Requirement already satisfied: urllib3!=1.25.0,!=1.25.1,<1.26,>=1.21.1 in /usr/local/lib/python3.7/dist-packages (from requests) (1.24.3)\n"
          ]
        }
      ],
      "source": [
        "pip install requests"
      ]
    },
    {
      "cell_type": "markdown",
      "source": [
        "**CONFIGURACAO DE VARIAVEIS**"
      ],
      "metadata": {
        "id": "utjUo2xnTWLD"
      }
    },
    {
      "cell_type": "code",
      "source": [
        "import requests\n",
        "import pandas as pd\n",
        "import numpy as np\n",
        "import json\n",
        "url = 'https://brasilapi.com.br/api/ibge/municipios/v1/'\n",
        "estados = ['RO','AC','AM','RR','PA','AP','TO','MA','PI','CE','RN','PB','PE','AL','SE','BA','MG','ES','RJ','SP','PR','SC','RS','MS','MT','GO','DF']\n"
      ],
      "metadata": {
        "id": "YQB_AEYeTgOh"
      },
      "execution_count": 44,
      "outputs": []
    },
    {
      "cell_type": "markdown",
      "source": [
        "**OBTER LISTA DE CIDADES**"
      ],
      "metadata": {
        "id": "Pbnh7rZ4UPPu"
      }
    },
    {
      "cell_type": "code",
      "source": [
        "df = pd.DataFrame()\n",
        "for x in estados:\n",
        "  df_stage = np.array(pd.read_json(requests.get(url + '/' + x).text))\n",
        "  df_stage = pd.DataFrame(df_stage)\n",
        "  #Pega UF Atual\n",
        "  dnp_uf = np.array([x])\n",
        "  df_uf = pd.DataFrame(dnp_uf)\n",
        "  #Merge DF Atual com UF Atual\n",
        "  df_stage = pd.DataFrame(pd.merge(df_stage,df_uf,how='cross'))\n",
        "  df = pd.DataFrame(pd.concat([df,df_stage]))\n"
      ],
      "metadata": {
        "id": "DF581jWhUWEF"
      },
      "execution_count": 158,
      "outputs": []
    },
    {
      "cell_type": "markdown",
      "source": [
        "**SETA NOME DAS COLUNAS**"
      ],
      "metadata": {
        "id": "Dhnr_prasCOR"
      }
    },
    {
      "cell_type": "code",
      "source": [
        "df.columns = ['NomeCidade','CodigoIBGE','UF']"
      ],
      "metadata": {
        "id": "u2WRjcVRcWgm"
      },
      "execution_count": 161,
      "outputs": []
    },
    {
      "cell_type": "code",
      "source": [
        "print(df)"
      ],
      "metadata": {
        "colab": {
          "base_uri": "https://localhost:8080/"
        },
        "id": "Y6uF-Habl8QZ",
        "outputId": "9ac78be8-c59a-4111-a68d-2f19b6d68c3a"
      },
      "execution_count": 162,
      "outputs": [
        {
          "output_type": "stream",
          "name": "stdout",
          "text": [
            "                NomeCidade CodigoIBGE  UF\n",
            "0    ALTA FLORESTA D'OESTE    1100015  RO\n",
            "1                ARIQUEMES    1100023  RO\n",
            "2                   CABIXI    1100031  RO\n",
            "3                   CACOAL    1100049  RO\n",
            "4               CEREJEIRAS    1100056  RO\n",
            "..                     ...        ...  ..\n",
            "242             VIANOPOLIS    5222005  GO\n",
            "243         VICENTINOPOLIS    5222054  GO\n",
            "244               VILA BOA    5222203  GO\n",
            "245          VILA PROPICIO    5222302  GO\n",
            "0                 BRASILIA    5300108  DF\n",
            "\n",
            "[5570 rows x 3 columns]\n"
          ]
        }
      ]
    },
    {
      "cell_type": "code",
      "source": [
        "df.to_csv('fim.csv',sep=';')"
      ],
      "metadata": {
        "id": "I5x6MKflsH8N"
      },
      "execution_count": 165,
      "outputs": []
    },
    {
      "cell_type": "code",
      "source": [
        ""
      ],
      "metadata": {
        "id": "4uEaeTKQy3Ac"
      },
      "execution_count": null,
      "outputs": []
    }
  ]
}